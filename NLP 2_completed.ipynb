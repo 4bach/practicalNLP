{
 "cells": [
  {
   "cell_type": "markdown",
   "metadata": {},
   "source": [
    "# NLP 2 : Neural Embeddings, Text Classification, Text Generation\n",
    "\n",
    "\n",
    "To use statistical classifiers with text, it is first necessary to vectorize the text. In the first practical session we explored the **bag of word** model which is not the most accurate. \n",
    "\n",
    "State of the art methods uses language models to vectorize the text before classification.\n",
    "\n",
    "## Classic word embeddings\n",
    "\n",
    "- [Word2Vec](https://arxiv.org/abs/1301.3781)\n",
    "- [Glove](https://nlp.stanford.edu/projects/glove/)\n",
    "\n",
    "\n",
    "## bleeding edge (only for reference)\n",
    "\n",
    "- [UMLFIT](https://arxiv.org/abs/1801.06146)\n",
    "- [ELMO](https://arxiv.org/abs/1802.05365)\n",
    "- [BERT](https://arxiv.org/abs/1810.04805)\n",
    "\n",
    "\n",
    "In this second practical session, we mainly explore what can be done with classical word embeddings obtained from `word2vec`\n",
    "\n",
    "\n",
    "\n",
    "##  Loading data (same as nlp 1)"
   ]
  },
  {
   "cell_type": "code",
   "execution_count": 2,
   "metadata": {},
   "outputs": [
    {
     "name": "stdout",
     "output_type": "stream",
     "text": [
      "(\"The undoubted highlight of this movie is Peter O'Toole's performance. In turn wildly comical and terribly terribly tragic. Does anybody do it better than O'Toole? I don't think so. What a great face that man has!<br /><br />The story is an odd one and quite disturbing and emotionally intense in parts (especially toward the end) but it is also oddly touching and does succeed on many levels. However, I felt the film basically revolved around Peter O'Toole's luminous performance and I'm sure I wouldn't have enjoyed it even half as much if he hadn't been in it.\", 1)\n"
     ]
    }
   ],
   "source": [
    "import glob\n",
    "from os.path import split as pathsplit\n",
    "\n",
    "dir_train = \"dataset/aclImdb/train/\"\n",
    "dir_test = \"dataset/aclImdb/test/\"\n",
    "\n",
    "train_files = glob.glob(dir_train+'pos/*.txt') + glob.glob(dir_train+'neg/*.txt')\n",
    "test_files = glob.glob(dir_test+'pos/*.txt') + glob.glob(dir_test+'neg/*.txt')\n",
    "\n",
    "\n",
    "def get_polarity(f):\n",
    "    \"\"\"\n",
    "    Extracts polarity from filename:\n",
    "    0 is negative (< 5)\n",
    "    1 is positive (> 5)\n",
    "    \"\"\"\n",
    "    _,name = pathsplit(f)\n",
    "    if int(name.split('_')[1].split('.')[0]) < 5:\n",
    "        return 0\n",
    "    else:\n",
    "        return 1\n",
    "\n",
    "\n",
    "def open_one(f):\n",
    "    \n",
    "    polarity = get_polarity(f)\n",
    "    \n",
    "    with open(f,\"r\",encoding=\"utf-8\") as review:\n",
    "        text = \" \".join(review.readlines()).strip()\n",
    "    \n",
    "    return (text,polarity)\n",
    "\n",
    "print(open_one(train_files[0]))\n",
    "\n",
    "train = [open_one(x) for x in train_files] #contains (text,pol) couples\n",
    "test = [open_one(x) for x in test_files]   #contains (text,pol) couples\n"
   ]
  },
  {
   "cell_type": "markdown",
   "metadata": {},
   "source": [
    "## Word2Vec: Quick Recap\n",
    "\n",
    "**[Word2Vec](https://arxiv.org/abs/1301.3781) is two distinct language models, optimized to quickly learn word vectors**\n",
    "\n",
    "\n",
    "given a random text: `i'm taking the dog out for a walk`\n",
    "\n",
    "\n",
    "\n",
    "### (a) Continuous Bag of Word (CBOW)\n",
    "    -  predicts a word given a context\n",
    "    \n",
    "maximizing `p(dog | i'm taking the ___ out for a walk)`\n",
    "    \n",
    "### (b) Skip-Gram (SG)               \n",
    "    -  predicts a context given a word\n",
    "    \n",
    " maximizing `p(i'm taking the out for a walk | dog)`\n",
    "\n",
    "\n",
    "\n",
    "   "
   ]
  },
  {
   "cell_type": "markdown",
   "metadata": {},
   "source": [
    "## Step 2: train (or load) a language model (word2vec)\n",
    "\n",
    "Gensim has one of [Word2Vec](https://radimrehurek.com/gensim/models/word2vec.html) fastest implementation.\n",
    "\n",
    "\n",
    "### Train:"
   ]
  },
  {
   "cell_type": "code",
   "execution_count": 7,
   "metadata": {},
   "outputs": [
    {
     "name": "stderr",
     "output_type": "stream",
     "text": [
      "2018-11-13 15:27:07,705 : INFO : collecting all words and their counts\n",
      "2018-11-13 15:27:07,706 : INFO : PROGRESS: at sentence #0, processed 0 words, keeping 0 word types\n",
      "2018-11-13 15:27:08,091 : INFO : PROGRESS: at sentence #10000, processed 2358544 words, keeping 155393 word types\n",
      "2018-11-13 15:27:08,490 : INFO : PROGRESS: at sentence #20000, processed 4675912 words, keeping 243050 word types\n",
      "2018-11-13 15:27:08,691 : INFO : collected 280617 word types from a corpus of 5844680 raw words and 25000 sentences\n",
      "2018-11-13 15:27:08,692 : INFO : Loading a fresh vocabulary\n",
      "2018-11-13 15:27:09,078 : INFO : effective_min_count=5 retains 49345 unique words (17% of original 280617, drops 231272)\n",
      "2018-11-13 15:27:09,078 : INFO : effective_min_count=5 leaves 5517507 word corpus (94% of original 5844680, drops 327173)\n",
      "2018-11-13 15:27:09,200 : INFO : deleting the raw counts dictionary of 280617 items\n",
      "2018-11-13 15:27:09,204 : INFO : sample=0.001 downsamples 43 most-common words\n",
      "2018-11-13 15:27:09,205 : INFO : downsampling leaves estimated 4268608 word corpus (77.4% of prior 5517507)\n",
      "2018-11-13 15:27:09,265 : INFO : constructing a huffman tree from 49345 words\n",
      "2018-11-13 15:27:10,488 : INFO : built huffman tree with maximum node depth 20\n",
      "2018-11-13 15:27:10,514 : INFO : estimated required memory for 49345 words and 100 dimensions: 74017500 bytes\n",
      "2018-11-13 15:27:10,515 : INFO : resetting layer weights\n",
      "2018-11-13 15:27:10,914 : INFO : training model with 8 workers on 49345 vocabulary and 100 features, using sg=0 hs=1 sample=0.001 negative=0 window=5\n",
      "2018-11-13 15:27:11,925 : INFO : EPOCH 1 - PROGRESS: at 28.55% examples, 1222432 words/s, in_qsize 13, out_qsize 2\n",
      "2018-11-13 15:27:12,929 : INFO : EPOCH 1 - PROGRESS: at 56.22% examples, 1199861 words/s, in_qsize 16, out_qsize 1\n",
      "2018-11-13 15:27:13,937 : INFO : EPOCH 1 - PROGRESS: at 85.01% examples, 1202715 words/s, in_qsize 16, out_qsize 0\n",
      "2018-11-13 15:27:14,434 : INFO : worker thread finished; awaiting finish of 7 more threads\n",
      "2018-11-13 15:27:14,441 : INFO : worker thread finished; awaiting finish of 6 more threads\n",
      "2018-11-13 15:27:14,444 : INFO : worker thread finished; awaiting finish of 5 more threads\n",
      "2018-11-13 15:27:14,450 : INFO : worker thread finished; awaiting finish of 4 more threads\n",
      "2018-11-13 15:27:14,450 : INFO : worker thread finished; awaiting finish of 3 more threads\n",
      "2018-11-13 15:27:14,453 : INFO : worker thread finished; awaiting finish of 2 more threads\n",
      "2018-11-13 15:27:14,459 : INFO : worker thread finished; awaiting finish of 1 more threads\n",
      "2018-11-13 15:27:14,460 : INFO : worker thread finished; awaiting finish of 0 more threads\n",
      "2018-11-13 15:27:14,461 : INFO : EPOCH - 1 : training on 5844680 raw words (4267971 effective words) took 3.5s, 1205171 effective words/s\n",
      "2018-11-13 15:27:15,466 : INFO : EPOCH 2 - PROGRESS: at 26.76% examples, 1148415 words/s, in_qsize 16, out_qsize 0\n",
      "2018-11-13 15:27:16,476 : INFO : EPOCH 2 - PROGRESS: at 54.75% examples, 1170197 words/s, in_qsize 16, out_qsize 2\n",
      "2018-11-13 15:27:17,483 : INFO : EPOCH 2 - PROGRESS: at 82.92% examples, 1171791 words/s, in_qsize 15, out_qsize 0\n",
      "2018-11-13 15:27:18,055 : INFO : worker thread finished; awaiting finish of 7 more threads\n",
      "2018-11-13 15:27:18,057 : INFO : worker thread finished; awaiting finish of 6 more threads\n",
      "2018-11-13 15:27:18,071 : INFO : worker thread finished; awaiting finish of 5 more threads\n",
      "2018-11-13 15:27:18,073 : INFO : worker thread finished; awaiting finish of 4 more threads\n",
      "2018-11-13 15:27:18,075 : INFO : worker thread finished; awaiting finish of 3 more threads\n",
      "2018-11-13 15:27:18,080 : INFO : worker thread finished; awaiting finish of 2 more threads\n",
      "2018-11-13 15:27:18,082 : INFO : worker thread finished; awaiting finish of 1 more threads\n",
      "2018-11-13 15:27:18,085 : INFO : worker thread finished; awaiting finish of 0 more threads\n",
      "2018-11-13 15:27:18,085 : INFO : EPOCH - 2 : training on 5844680 raw words (4268807 effective words) took 3.6s, 1178897 effective words/s\n",
      "2018-11-13 15:27:19,103 : INFO : EPOCH 3 - PROGRESS: at 27.75% examples, 1182426 words/s, in_qsize 14, out_qsize 1\n",
      "2018-11-13 15:27:20,114 : INFO : EPOCH 3 - PROGRESS: at 54.56% examples, 1161494 words/s, in_qsize 15, out_qsize 0\n",
      "2018-11-13 15:27:21,119 : INFO : EPOCH 3 - PROGRESS: at 82.26% examples, 1159361 words/s, in_qsize 14, out_qsize 1\n",
      "2018-11-13 15:27:21,707 : INFO : worker thread finished; awaiting finish of 7 more threads\n",
      "2018-11-13 15:27:21,710 : INFO : worker thread finished; awaiting finish of 6 more threads\n",
      "2018-11-13 15:27:21,712 : INFO : worker thread finished; awaiting finish of 5 more threads\n",
      "2018-11-13 15:27:21,713 : INFO : worker thread finished; awaiting finish of 4 more threads\n",
      "2018-11-13 15:27:21,722 : INFO : worker thread finished; awaiting finish of 3 more threads\n",
      "2018-11-13 15:27:21,732 : INFO : worker thread finished; awaiting finish of 2 more threads\n",
      "2018-11-13 15:27:21,733 : INFO : worker thread finished; awaiting finish of 1 more threads\n",
      "2018-11-13 15:27:21,734 : INFO : worker thread finished; awaiting finish of 0 more threads\n",
      "2018-11-13 15:27:21,735 : INFO : EPOCH - 3 : training on 5844680 raw words (4268371 effective words) took 3.6s, 1172144 effective words/s\n",
      "2018-11-13 15:27:22,750 : INFO : EPOCH 4 - PROGRESS: at 26.90% examples, 1145298 words/s, in_qsize 16, out_qsize 1\n",
      "2018-11-13 15:27:23,751 : INFO : EPOCH 4 - PROGRESS: at 54.05% examples, 1155177 words/s, in_qsize 16, out_qsize 0\n",
      "2018-11-13 15:27:24,768 : INFO : EPOCH 4 - PROGRESS: at 82.87% examples, 1167210 words/s, in_qsize 16, out_qsize 0\n",
      "2018-11-13 15:27:25,317 : INFO : worker thread finished; awaiting finish of 7 more threads\n",
      "2018-11-13 15:27:25,329 : INFO : worker thread finished; awaiting finish of 6 more threads\n",
      "2018-11-13 15:27:25,335 : INFO : worker thread finished; awaiting finish of 5 more threads\n",
      "2018-11-13 15:27:25,341 : INFO : worker thread finished; awaiting finish of 4 more threads\n",
      "2018-11-13 15:27:25,342 : INFO : worker thread finished; awaiting finish of 3 more threads\n",
      "2018-11-13 15:27:25,344 : INFO : worker thread finished; awaiting finish of 2 more threads\n",
      "2018-11-13 15:27:25,345 : INFO : worker thread finished; awaiting finish of 1 more threads\n",
      "2018-11-13 15:27:25,347 : INFO : worker thread finished; awaiting finish of 0 more threads\n",
      "2018-11-13 15:27:25,347 : INFO : EPOCH - 4 : training on 5844680 raw words (4267599 effective words) took 3.6s, 1182650 effective words/s\n",
      "2018-11-13 15:27:26,353 : INFO : EPOCH 5 - PROGRESS: at 26.34% examples, 1127609 words/s, in_qsize 15, out_qsize 0\n",
      "2018-11-13 15:27:27,362 : INFO : EPOCH 5 - PROGRESS: at 53.42% examples, 1142525 words/s, in_qsize 16, out_qsize 2\n",
      "2018-11-13 15:27:28,378 : INFO : EPOCH 5 - PROGRESS: at 80.35% examples, 1132394 words/s, in_qsize 11, out_qsize 4\n",
      "2018-11-13 15:27:29,074 : INFO : worker thread finished; awaiting finish of 7 more threads\n",
      "2018-11-13 15:27:29,083 : INFO : worker thread finished; awaiting finish of 6 more threads\n",
      "2018-11-13 15:27:29,096 : INFO : worker thread finished; awaiting finish of 5 more threads\n",
      "2018-11-13 15:27:29,097 : INFO : worker thread finished; awaiting finish of 4 more threads\n",
      "2018-11-13 15:27:29,101 : INFO : worker thread finished; awaiting finish of 3 more threads\n",
      "2018-11-13 15:27:29,104 : INFO : worker thread finished; awaiting finish of 2 more threads\n",
      "2018-11-13 15:27:29,110 : INFO : worker thread finished; awaiting finish of 1 more threads\n",
      "2018-11-13 15:27:29,115 : INFO : worker thread finished; awaiting finish of 0 more threads\n",
      "2018-11-13 15:27:29,115 : INFO : EPOCH - 5 : training on 5844680 raw words (4268356 effective words) took 3.8s, 1134227 effective words/s\n",
      "2018-11-13 15:27:29,116 : INFO : training on a 29223400 raw words (21341104 effective words) took 18.2s, 1172534 effective words/s\n"
     ]
    }
   ],
   "source": [
    "import gensim\n",
    "import logging\n",
    "logging.basicConfig(format='%(asctime)s : %(levelname)s : %(message)s', level=logging.INFO)\n",
    "\n",
    "text = [t.split() for t,p in train]\n",
    "\n",
    "# the following configuration is the default configuration (it uses CBOW)\n",
    "w2v = gensim.models.word2vec.Word2Vec(sentences=text,\n",
    "                                size=100, window=5,\n",
    "                                min_count=5, \n",
    "                                sample=0.001, workers=8,\n",
    "                                sg=0, hs=0, negative=5,\n",
    "                                cbow_mean=1,\n",
    "                                iter=5)"
   ]
  },
  {
   "cell_type": "markdown",
   "metadata": {},
   "source": [
    "### Load pre-trained embeddings:"
   ]
  },
  {
   "cell_type": "code",
   "execution_count": null,
   "metadata": {},
   "outputs": [],
   "source": [
    "# It's for later\n",
    "\n",
    "#from gensim.test.utils import datapath\n",
    "#w2v = KeyedVectors.load_word2vec_format(datapath('downloaded_vectors_path'), binary=False)  "
   ]
  },
  {
   "cell_type": "markdown",
   "metadata": {},
   "source": [
    "In Gensim, embeddings are loaded and can be used via the [\"KeyedVectors\"](https://radimrehurek.com/gensim/models/keyedvectors.html) class\n",
    "\n",
    "> Since trained word vectors are independent from the way they were trained (Word2Vec, FastText, WordRank, VarEmbed etc), they can be represented by a standalone structure, as implemented in this module.\n",
    "\n",
    ">The structure is called “KeyedVectors” and is essentially a mapping between entities and vectors. Each entity is identified by its string id, so this is a mapping between {str => 1D numpy array}.\n",
    "\n",
    ">The entity typically corresponds to a word (so the mapping maps words to 1D vectors), but for some models, they key can also correspond to a document, a graph node etc. To generalize over different use-cases, this module calls the keys entities. Each entity is always represented by its string id, no matter whether the entity is a word, a document or a graph node."
   ]
  },
  {
   "cell_type": "markdown",
   "metadata": {},
   "source": [
    "## STEP 3: Test learnt embeddings\n",
    "\n",
    "The word embedding space directly encodes similarities between words: the vector coding for the word \"great\" will be closer to the vector coding for \"good\" than to the one coding for \"bad\". Generally, [cosine similarity](https://en.wikipedia.org/wiki/Cosine_similarity) is the distance used when considering distance between vectors.\n",
    "\n",
    "KeyedVectors have a built in [similarity](https://radimrehurek.com/gensim/models /keyedvectors.html#gensim.models.keyedvectors.BaseKeyedVectors.similarity) method to compute the cosine similarity between words"
   ]
  },
  {
   "cell_type": "code",
   "execution_count": null,
   "metadata": {},
   "outputs": [],
   "source": [
    "# is great really closer to good than to bad ?\n",
    "print(\"great and good:\",w2v.wv.similarity(\"great\",\"good\"))\n",
    "print(\"great and bad:\",w2v.wv.similarity(\"great\",\"bad\"))"
   ]
  },
  {
   "cell_type": "markdown",
   "metadata": {},
   "source": [
    "Since cosine distance encodes similarity, neighboring words are supposed to be similar. The [most_similar](https://radimrehurek.com/gensim/models/keyedvectors.html#gensim.models.keyedvectors.BaseKeyedVectors.most_similar) method returns the `topn` words given a query."
   ]
  },
  {
   "cell_type": "code",
   "execution_count": null,
   "metadata": {},
   "outputs": [],
   "source": [
    "# The query can be as simple as a word, such as \"movie\"\n",
    "\n",
    "# Try changing the word\n",
    "w2v.wv.most_similar(\"movie\",topn=5) # 5 most similar words\n",
    "#w2v.wv.most_similar(\"awesome\",topn=5)\n",
    "#w2v.wv.most_similar(\"actor\",topn=5)"
   ]
  },
  {
   "cell_type": "markdown",
   "metadata": {},
   "source": [
    "But it can be a more complicated query\n",
    "Word embedding spaces tend to encode much more.\n",
    "\n",
    "The most famous exemple is: `vec(king) - vec(man) + vec(woman) => vec(queen)`"
   ]
  },
  {
   "cell_type": "code",
   "execution_count": null,
   "metadata": {},
   "outputs": [],
   "source": [
    "# What is awesome - good + bad ?\n",
    "w2v.wv.most_similar(positive=[\"awesome\",\"bad\"],negative=[\"good\"],topn=3)  \n",
    "\n",
    "#w2v.wv.most_similar(positive=[\"actor\",\"woman\"],negative=[\"man\"],topn=3) # do the famous exemple works for actor ?\n",
    "\n",
    "\n",
    "# Try other things like plurals for exemple.\n"
   ]
  },
  {
   "cell_type": "markdown",
   "metadata": {},
   "source": [
    "To test learnt \"synctactic\" and \"semantic\" similarities, Mikolov et al. introduced a special dataset containing a wide variety of three way similarities."
   ]
  },
  {
   "cell_type": "code",
   "execution_count": null,
   "metadata": {},
   "outputs": [],
   "source": [
    "out = w2v.wv.accuracy(\"dataset/questions-words.txt\",case_insensitive=True)  #original semantic syntactic dataset."
   ]
  },
  {
   "cell_type": "markdown",
   "metadata": {},
   "source": [
    "The review dataset does not perform very well since it hasn't been learnt with a lot of data.\n",
    "\n",
    "\n",
    "### Try to load a pre-trained word2vec model on a much bigger dataset and redo the experiments."
   ]
  },
  {
   "cell_type": "markdown",
   "metadata": {},
   "source": [
    "## STEP 4:  sentiment classification\n",
    "\n",
    "In the previous practical session, we used a bag of word approach to transform text into vectors.\n",
    "Here, we propose to try to use word vectors (previously learnt or loaded).\n",
    "\n",
    "Since we have only word vectors and that sentences are made of multiple words, we need to aggregate them.\n",
    "\n",
    "\n",
    "### (1) Vectorize reviews using word vectors:\n",
    "\n",
    "Word aggregation can be done in different ways:\n",
    "\n",
    "- Sum\n",
    "- Average\n",
    "- Min/feature\n",
    "- Max/feature\n"
   ]
  },
  {
   "cell_type": "code",
   "execution_count": 8,
   "metadata": {},
   "outputs": [
    {
     "name": "stdout",
     "output_type": "stream",
     "text": [
      "Sum done\n",
      "mean done\n",
      "min done\n",
      "max done\n",
      "[  0.13354434 -28.83853583  24.43568386  13.65746432  -4.81521638\n",
      "  -1.14985932  -4.49744137   6.95467137  -5.9034599    3.42532358\n",
      "   6.48722817   2.59129484   7.88291658   2.63151897  -5.23727535\n",
      " -10.28934438   5.34886263 -11.16912255 -11.24429948  -5.32040688\n",
      "   1.18044472 -14.16123608   3.65800812   0.11558717 -10.03504535\n",
      "  15.60479697  -5.37162115   4.50223088 -14.24764753   1.20764827\n",
      "  -8.38563212  -2.2422261    8.10761763   4.90389493  -7.54858336\n",
      "  23.54981797   6.20973161   3.2510825   -6.42063851   1.23709818\n",
      "  -5.10975826  -4.66537782  -6.10505571 -25.39682806   2.05587103\n",
      " -21.17211402   2.03201961   8.12303086   9.96651958   8.29319867\n",
      "   1.43238178  -0.30808658   6.09005582 -12.01479761  -3.60875404\n",
      "  -5.14686863  -7.12366433 -10.66597779  13.10854151  -2.21849292\n",
      "  21.86481556   4.57373056   4.50585175  18.36698657   0.75704002\n",
      "  -6.22148096   5.66327925 -25.01535388  -8.78160495   6.18743908\n",
      "   6.27075073   4.81911654  -4.83154915  -7.96206329  -1.60603324\n",
      "  -1.2468288    8.42072745  -3.33671611   0.91874409   8.2708243\n",
      "   4.50901106   7.14323359  -4.49983164  14.49564741  -1.80946606\n",
      "  -1.10387295   3.63820945  -0.31783508 -14.10596458  -0.1587326\n",
      "   3.58703849  -7.72792319   1.08299264   7.97545229   5.73928343\n",
      "  -2.81096548  -3.29556919  -5.49734733   3.04305162   1.2225239 ]\n"
     ]
    }
   ],
   "source": [
    "import numpy as np\n",
    "\n",
    "# We first need to vectorize text:\n",
    "# We propose to only implement sum or mean\n",
    "\n",
    "def vectorize(text,mean=False):\n",
    "    vec = np.zeros(w2v.wv.vector_size)\n",
    "    tokenized = text.split(\" \")\n",
    "    for word in tokenized:\n",
    "        if word in w2v.wv.vocab:\n",
    "            vec += w2v.wv.get_vector(word)\n",
    "    \n",
    "    if mean:\n",
    "        vec /= len(tokenized)\n",
    "            \n",
    "    return vec\n",
    "\n",
    "def vectorize_min_max(text,use_max=False):\n",
    "    vec = np.zeros(w2v.wv.vector_size)\n",
    "    tokenized = text.split(\" \")\n",
    "    first = True\n",
    "    for word in tokenized:\n",
    "        if word in w2v.wv.vocab:\n",
    "            \n",
    "            if first:\n",
    "                vec = w2v.wv.get_vector(word)\n",
    "            elif use_max:\n",
    "                vec = np.minimum(vec,w2v.wv.get_vector(word))\n",
    "            else:\n",
    "                vec = np.maximum(vec,w2v.wv.get_vector(word))\n",
    "                \n",
    "            \n",
    "    return vec\n",
    "    \n",
    "\n",
    "classes = [pol for text,pol in train]\n",
    "X = [vectorize(text) for text,pol in train]\n",
    "X_test = [vectorize(text) for text,pol in test]\n",
    "true = [pol for text,pol in test]\n",
    "print(\"Sum done\")\n",
    "X_mean = [vectorize(text,True) for text,pol in train]\n",
    "X_mean_test = [vectorize(text,True) for text,pol in test]\n",
    "print(\"mean done\")\n",
    "\n",
    "X_min = [vectorize_min_max(text) for text,pol in train]\n",
    "X_min_test = [vectorize(text) for text,pol in test]\n",
    "print(\"min done\")\n",
    "\n",
    "X_max = [vectorize_min_max(text,True) for text,pol in train]\n",
    "X_max_test = [vectorize(text,True) for text,pol in test]\n",
    "print(\"max done\")\n",
    "\n",
    "#let's see what a review vector looks like.\n",
    "print(X[0])"
   ]
  },
  {
   "cell_type": "markdown",
   "metadata": {},
   "source": [
    "### (2) Train a classifier \n",
    "as in the previous practical session, train a logistic regression to do sentiment classification with word vectors"
   ]
  },
  {
   "cell_type": "code",
   "execution_count": 9,
   "metadata": {},
   "outputs": [
    {
     "name": "stdout",
     "output_type": "stream",
     "text": [
      "SUM Logistic Regression accuracy: 0.80232\n",
      "MEAN Logistic Regression accuracy: 0.80428\n",
      "MIN Logistic Regression accuracy: 0.58436\n",
      "MAX Logistic Regression accuracy: 0.51796\n"
     ]
    }
   ],
   "source": [
    "from sklearn.linear_model import LogisticRegression\n",
    "from sklearn.metrics import accuracy_score\n",
    "from sklearn.preprocessing import normalize\n",
    "\n",
    "\n",
    "#Logistic Regression\n",
    "lr_clf = LogisticRegression(random_state=0, solver='lbfgs',n_jobs=-1)\n",
    "lr_clf.fit(X, classes)\n",
    "\n",
    "pred_lr = lr_clf.predict(X_test)\n",
    "\n",
    "print(f\"SUM Logistic Regression accuracy: {accuracy_score(true, pred_lr)}\")\n",
    "\n",
    "lr_clf = LogisticRegression(random_state=0, solver='lbfgs',n_jobs=-1)\n",
    "lr_clf.fit(X_mean, classes)\n",
    "\n",
    "pred_lr = lr_clf.predict(X_mean_test)\n",
    "\n",
    "print(f\"MEAN Logistic Regression accuracy: {accuracy_score(true, pred_lr)}\")\n",
    "\n",
    "lr_clf = LogisticRegression(random_state=0, solver='lbfgs',n_jobs=-1)\n",
    "lr_clf.fit(X_min, classes)\n",
    "\n",
    "pred_lr = lr_clf.predict(X_min_test)\n",
    "\n",
    "print(f\"MIN Logistic Regression accuracy: {accuracy_score(true, pred_lr)}\")\n",
    "\n",
    "lr_clf = LogisticRegression(random_state=0, solver='lbfgs',n_jobs=-1)\n",
    "lr_clf.fit(X, classes)\n",
    "\n",
    "pred_lr = lr_clf.predict(X_max_test)\n",
    "\n",
    "print(f\"MAX Logistic Regression accuracy: {accuracy_score(true, pred_lr)}\")"
   ]
  },
  {
   "cell_type": "markdown",
   "metadata": {},
   "source": [
    "performance should be worst than with bag of word (~80%). Sum/Mean aggregation does not work well on long reviews (especially with many frequent words). This adds a lot of noise.\n",
    "\n",
    "**(Bonus)** To have a better accuracy, we could try two things:\n",
    "- Change w2v parameters (use Skip-Gram instead of CBOW ?)\n",
    "- Better aggregation methods (weight by tf-idf ?)\n",
    "- A text vectorizing method such as [Doc2Vec](https://radimrehurek.com/gensim/models/doc2vec.html) or else"
   ]
  },
  {
   "cell_type": "markdown",
   "metadata": {},
   "source": [
    "## (Bonus) Generate text with a recurrent neural network (Pytorch)\n",
    "\n",
    "The goal is to replicate the (famous) experiment from [Karpathy's blog](http://karpathy.github.io/2015/05/21/rnn-effectiveness/)\n",
    "\n",
    "To learn to generate text, we train a recurrent neural network to do the following task:\n",
    "\n",
    "Given a \"chunk\" of text: `this is random text`\n",
    "\n",
    "the goal of the network is to predict each character in **`his is random text` ** sequentially given the following sequential input **`this is random tex`**:\n",
    "\n"
   ]
  },
  {
   "cell_type": "raw",
   "metadata": {},
   "source": [
    "Input ->  Output\n",
    "--------------\n",
    "T    ->    H\n",
    "H    ->    I\n",
    "I    ->    S\n",
    "S    ->    \" \"\n",
    "\" \"  ->    I\n",
    "I    ->    S\n",
    "S    ->    \" \"\n",
    "[...]\n"
   ]
  },
  {
   "cell_type": "markdown",
   "metadata": {},
   "source": [
    "\n",
    "## Load text (dataset/input.txt)\n",
    "\n",
    "Before building training batch, we load the full text in RAM"
   ]
  },
  {
   "cell_type": "code",
   "execution_count": 11,
   "metadata": {},
   "outputs": [
    {
     "name": "stdout",
     "output_type": "stream",
     "text": [
      "file_len = 1115394\n"
     ]
    }
   ],
   "source": [
    "import unidecode\n",
    "import string\n",
    "import random\n",
    "import re\n",
    "import torch\n",
    "import torch.nn as nn\n",
    "\n",
    "all_characters = string.printable\n",
    "n_characters = len(all_characters)\n",
    "\n",
    "file = unidecode.unidecode(open('dataset/input.txt').read()) #clean text => only ascii\n",
    "file_len = len(file)\n",
    "print('file_len =', file_len)\n"
   ]
  },
  {
   "cell_type": "markdown",
   "metadata": {},
   "source": [
    "## 2: Helper functions:\n",
    "\n",
    "We have a text and we want to feed batch of chunks to a neural network:\n",
    "\n",
    "one chunk  A,B,C,D,E\n",
    "[input] A,B,C,D -> B,C,D,E [output]\n",
    "\n",
    "Note: we will use an embedding layer instead of a one-hot encoding scheme.\n",
    "\n",
    "for this, we have 3 functions:\n",
    "\n",
    "- One to get a random str chunk of size `chunk_len` : `random_chunk` \n",
    "- One to turn a chunk into a tensor of size `(1,chunk_len)` coding for each characters : `char_tensor`\n",
    "- One to return random input and output chunks of size `(batch_size,chunk_len)` : `random_training_set`\n",
    "\n",
    "\n"
   ]
  },
  {
   "cell_type": "code",
   "execution_count": 16,
   "metadata": {},
   "outputs": [
    {
     "name": "stdout",
     "output_type": "stream",
     "text": [
      "(tensor([[10, 94, 27, 30, 23, 96, 11, 30, 29, 94],\n",
      "        [17, 18, 21, 14, 78, 94, 32, 14, 68, 21],\n",
      "        [12, 18, 10, 23, 28, 68, 94, 14, 10, 27],\n",
      "        [28, 94, 27, 14, 25, 24, 27, 29, 14, 13]]), tensor([[94, 27, 30, 23, 96, 11, 30, 29, 94, 22],\n",
      "        [18, 21, 14, 78, 94, 32, 14, 68, 21, 21],\n",
      "        [18, 10, 23, 28, 68, 94, 14, 10, 27, 28],\n",
      "        [94, 27, 14, 25, 24, 27, 29, 14, 13, 94]]))\n"
     ]
    }
   ],
   "source": [
    "import time, math\n",
    "\n",
    "\n",
    "#Get a piece of text\n",
    "def random_chunk(chunk_len):\n",
    "    start_index = random.randint(0, file_len - chunk_len-1)\n",
    "    end_index = start_index + chunk_len + 1\n",
    "    return file[start_index:end_index]\n",
    "\n",
    "\n",
    "# Turn string into list of longs\n",
    "def char_tensor(string):\n",
    "    tensor = torch.zeros(1,len(string)).long()\n",
    "    for c in range(len(string)):\n",
    "        tensor[0,c] = all_characters.index(string[c])\n",
    "    return tensor\n",
    "\n",
    "\n",
    "#Turn a piece of text in train/test\n",
    "def random_training_set(chunk_len=200, batch_size=8):\n",
    "    chunks = [random_chunk(chunk_len) for _ in range(batch_size)]\n",
    "    inp = torch.cat([char_tensor(chunk[:-1]) for chunk in chunks],dim=0)\n",
    "    target = torch.cat([char_tensor(chunk[1:]) for chunk in chunks],dim=0)\n",
    "    \n",
    "    return inp, target\n",
    "\n",
    "print(random_training_set(10,4))  ## should return 8 chunks of 10 letters. "
   ]
  },
  {
   "cell_type": "markdown",
   "metadata": {},
   "source": [
    "## The actual RNN model:\n",
    "\n",
    "It should be composed of three distinct modules:\n",
    "\n",
    "- an [embedding layer](https://pytorch.org/docs/stable/nn.html#embedding) (n_characters, hidden_size)\n",
    "- a [recurrent](https://pytorch.org/docs/stable/nn.html#recurrent-layers) layer (hidden_size, hidden_size)\n",
    "- a [prediction](https://pytorch.org/docs/stable/nn.html#linear) layer (hidden_size, output_size)\n",
    "\n",
    "\n",
    "=> Complete the `init` function code...\n"
   ]
  },
  {
   "cell_type": "code",
   "execution_count": 17,
   "metadata": {},
   "outputs": [],
   "source": [
    "import torch.nn.functional as f\n",
    "\n",
    "class RNN(nn.Module):\n",
    "    \n",
    "    def __init__(self, n_char, hidden_size, output_size, n_layers=1,rnn_cell=nn.RNN):\n",
    "        \"\"\"\n",
    "        Create the network\n",
    "        \"\"\"\n",
    "        super(RNN, self).__init__()\n",
    "        \n",
    "        self.n_char = n_char\n",
    "        self.hidden_size = hidden_size\n",
    "        self.output_size = output_size\n",
    "        self.n_layers = n_layers\n",
    "        \n",
    "        #  (batch,chunk_len) -> (batch, chunk_len, hidden_size)  \n",
    "        self.embed = nn.Embedding(n_char,hidden_size)\n",
    "        \n",
    "        # (batch, chunk_len, hidden_size)  -> (batch, chunk_len, hidden_size)  \n",
    "        self.rnn = rnn_cell(hidden_size,hidden_size)\n",
    "        \n",
    "        #(batch, chunk_len, hidden_size) -> (batch, chunk_len, output_size)  \n",
    "        self.predict = nn.Linear(hidden_size,output_size)\n",
    "    \n",
    "    def forward(self, input):\n",
    "        \"\"\"\n",
    "        batched forward: input is (batch > 1,chunk_len)\n",
    "        \"\"\"\n",
    "        input = self.embed(input)\n",
    "        output,_  = self.rnn(input)\n",
    "        output = self.predict(f.tanh(output))\n",
    "        return output\n",
    "    \n",
    "    def forward_seq(self, input,hidden=None):\n",
    "        \"\"\"\n",
    "        not batched forward: input is  (1,chunk_len)\n",
    "        \"\"\"\n",
    "        input = self.embed(input)\n",
    "        output,hidden  = self.rnn(input.unsqueeze(0),hidden)\n",
    "        output = self.predict(f.tanh(output))\n",
    "        return output,hidden\n"
   ]
  },
  {
   "cell_type": "markdown",
   "metadata": {
    "collapsed": true
   },
   "source": [
    "## Text generation function\n",
    "\n",
    "Sample text from the model"
   ]
  },
  {
   "cell_type": "code",
   "execution_count": 18,
   "metadata": {},
   "outputs": [],
   "source": [
    "def generate(model,prime_str='A', predict_len=100, temperature=0.8):\n",
    "    prime_input = char_tensor(prime_str).squeeze(0)\n",
    "    hidden = None\n",
    "    predicted = prime_str+\"\"\n",
    "    # Use priming string to \"build up\" hidden state\n",
    "\n",
    "    for p in range(len(prime_str)-1):\n",
    "        _,hidden = model.forward_seq(prime_input[p].unsqueeze(0),hidden)\n",
    "            \n",
    "    #print(hidden.size())\n",
    "    for p in range(predict_len):\n",
    "        output, hidden = model.forward_seq(prime_input[-1].unsqueeze(0), hidden)\n",
    "                # Sample from the network as a multinomial distribution\n",
    "        output_dist = output.data.view(-1).div(temperature).exp()\n",
    "        #print(output_dist)\n",
    "        top_i = torch.multinomial(output_dist, 1)[0]\n",
    "        #print(top_i)\n",
    "        # Add predicted character to string and use as next input\n",
    "        predicted_char = all_characters[top_i]\n",
    "        predicted += predicted_char\n",
    "        prime_input = torch.cat([prime_input,char_tensor(predicted_char).squeeze(0)])\n",
    "\n",
    "    return predicted\n",
    "\n"
   ]
  },
  {
   "cell_type": "markdown",
   "metadata": {
    "collapsed": true
   },
   "source": [
    "## Training loop for net"
   ]
  },
  {
   "cell_type": "code",
   "execution_count": null,
   "metadata": {},
   "outputs": [
    {
     "name": "stderr",
     "output_type": "stream",
     "text": [
      "/home/charles/anaconda3/lib/python3.6/site-packages/torch/nn/functional.py:1089: UserWarning: nn.functional.tanh is deprecated. Use torch.tanh instead.\n",
      "  warnings.warn(\"nn.functional.tanh is deprecated. Use torch.tanh instead.\")\n"
     ]
    },
    {
     "name": "stdout",
     "output_type": "stream",
     "text": [
      "[0m 3s (100 0%) 2.5498]\n",
      "Wh ave ano bune me, we:\n",
      "INI seite thre torid t t tea the t t t gae there s m th s t pamere ird ntouois \n",
      "\n",
      "[0m 7s (200 1%) 2.4900]\n",
      "Whed, thad nond tan,\n",
      "\n",
      "S:\n",
      "Sisthaiee, er t,\n",
      "Fie n n wike ayoule ond: s,\n",
      "I hed chisomilonllyouncho owe ta \n",
      "\n",
      "[0m 11s (300 1%) 2.5462]\n",
      "Whis ngoul d,\n",
      "AROMo mar s stel haly, k eare melouthave wecas,\n",
      "I\n",
      "CLORA, t hesine it sellokel t ouve, te \n",
      "\n",
      "[0m 14s (400 2%) 2.5094]\n",
      "Whesth chinon moureghand my s ayour Myof I thimar atht fald f catok oumaindreene h tesoomak t tinoorsw \n",
      "\n",
      "[0m 18s (500 2%) 2.5328]\n",
      "Whe f s\n",
      "Fis brenomy s s, oomat\n",
      "Thench I ist de.\n",
      "Yedecealdesse ce mar yongn I fale\n",
      "Fou wanoo se sou bee \n",
      "\n",
      "[0m 22s (600 3%) 2.4977]\n",
      "Wh br--n I g st asinthans! co ain mif t pothere ntathoveshinghe s?\n",
      "ANABe ll tcknofug lvouwhaiveer?\n",
      "We  \n",
      "\n",
      "[0m 26s (700 3%) 2.5044]\n",
      "Wherore wh cou bu minf mes hakno l, thas mon oulller tallis the engroof;\n",
      "CE:\n",
      "tit thy wise mal oor,\n",
      "\n",
      "\n",
      "\n",
      " \n",
      "\n",
      "[0m 30s (800 4%) 2.4773]\n",
      "Whot t tr I sthe othe ass, lave piseth, at s?\n",
      "Ye to ang he;\n",
      "\n",
      "S:\n",
      "Thine thess g preare, wourend o\n",
      "Be hal \n",
      "\n",
      "[0m 34s (900 4%) 2.4924]\n",
      "Wh cer I r\n",
      "Anen:\n",
      "ABy, and minou paillous RUENENo arenger.\n",
      "ARIIOu anthe sthak alis athe te atsas cthici \n",
      "\n",
      "[0m 38s (1000 5%) 2.4290]\n",
      "Whe, tothere thomofrd by isthond tak, LYo h meg thar g po 's, arill theremorers int t, he an whe s owa \n",
      "\n"
     ]
    }
   ],
   "source": [
    "def time_since(since):\n",
    "    s = time.time() - since\n",
    "    m = math.floor(s / 60)\n",
    "    s -= m * 60\n",
    "    return '%dm %ds' % (m, s)\n",
    "\n",
    "###Parameters\n",
    "n_epochs = 20000\n",
    "print_every = 100\n",
    "plot_every = 10\n",
    "hidden_size = 100\n",
    "n_layers = 5\n",
    "lr = 0.005\n",
    "batch_size = 16\n",
    "chunk_len = 80\n",
    "\n",
    "####\n",
    "\n",
    "model = RNN(n_characters, hidden_size, n_characters, n_layers) #create model\n",
    "model_optimizer = torch.optim.Adam(model.parameters(), lr=lr) #create Adam optimizer\n",
    "criterion = nn.CrossEntropyLoss() #chose criterion\n",
    "\n",
    "start = time.time()\n",
    "all_losses = []\n",
    "loss_avg = 0\n",
    "\n",
    "\n",
    "def train(inp, target):\n",
    "    \"\"\"\n",
    "    Train sequence for one chunk:\n",
    "    \"\"\"\n",
    "    #reset gradients\n",
    "    model_optimizer.zero_grad() \n",
    "    \n",
    "    # predict output\n",
    "    output = model(inp)\n",
    "    \n",
    "    #compute loss\n",
    "    loss =  criterion(output.view(batch_size*chunk_len,-1), target.view(-1)) \n",
    "\n",
    "    #compute gradients and backpropagate\n",
    "    loss.backward() \n",
    "    model_optimizer.step() \n",
    "\n",
    "    return loss.data.item() \n",
    "\n",
    "\n",
    "\n",
    "for epoch in range(1, n_epochs + 1):\n",
    "    loss = train(*random_training_set(chunk_len,batch_size))  #train on one chunk \n",
    "    loss_avg += loss\n",
    "\n",
    "    if epoch % print_every == 0:\n",
    "        print('[%s (%d %d%%) %.4f]' % (time_since(start), epoch, epoch / n_epochs * 100, loss))\n",
    "        print(generate(model,'Wh', 100), '\\n')\n",
    "       \n",
    "\n",
    "\n",
    "    if epoch % plot_every == 0:\n",
    "        all_losses.append(loss_avg / plot_every)\n",
    "        loss_avg = 0\n"
   ]
  },
  {
   "cell_type": "markdown",
   "metadata": {},
   "source": [
    "## Visualize loss "
   ]
  },
  {
   "cell_type": "code",
   "execution_count": null,
   "metadata": {},
   "outputs": [],
   "source": [
    "import matplotlib.pyplot as plt\n",
    "import matplotlib.ticker as ticker\n",
    "%matplotlib inline\n",
    "\n",
    "plt.figure()\n",
    "plt.plot(all_losses)"
   ]
  },
  {
   "cell_type": "markdown",
   "metadata": {},
   "source": [
    "## Try different temperatures\n",
    "\n",
    "Changing the distribution sharpness has an impact on character sampling:\n",
    "\n",
    "more or less probable things are sampled"
   ]
  },
  {
   "cell_type": "code",
   "execution_count": null,
   "metadata": {},
   "outputs": [],
   "source": [
    "print(generate(model,'T', 200, temperature=1))\n",
    "print(\"----\")\n",
    "print(generate(model,'Th', 200, temperature=0.8))\n",
    "print(\"----\")\n",
    "\n",
    "print(generate(model,'Th', 200, temperature=0.5))\n",
    "print(\"----\")\n",
    "\n",
    "print(generate(model,'Th', 200, temperature=0.3))\n",
    "print(\"----\")\n",
    "\n",
    "print(generate(model,'Th', 200, temperature=0.1))"
   ]
  },
  {
   "cell_type": "markdown",
   "metadata": {},
   "source": [
    "### Improving this code:\n",
    "\n",
    "(a) Tinker with parameters:\n",
    "\n",
    "- Is it really necessary to have 100 dims character embeddings)\n",
    "- Chunk length can be gradually increased\n",
    "- Try changing RNN cell type (GRUs - LSTMs)\n",
    "\n",
    "(b) Add GPU support to go faster\n"
   ]
  }
 ],
 "metadata": {
  "kernelspec": {
   "display_name": "Python 3",
   "language": "python",
   "name": "python3"
  },
  "language_info": {
   "codemirror_mode": {
    "name": "ipython",
    "version": 3
   },
   "file_extension": ".py",
   "mimetype": "text/x-python",
   "name": "python",
   "nbconvert_exporter": "python",
   "pygments_lexer": "ipython3",
   "version": "3.6.5"
  }
 },
 "nbformat": 4,
 "nbformat_minor": 2
}
